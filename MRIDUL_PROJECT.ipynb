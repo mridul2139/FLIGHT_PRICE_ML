{
  "cells": [
    {
      "cell_type": "code",
      "execution_count": null,
      "id": "55720a89",
      "metadata": {
        "_cell_guid": "b1076dfc-b9ad-4769-8c92-a6c4dae69d19",
        "_uuid": "8f2839f25d086af736a60e9eeb907d3b93b6e0e5",
        "execution": {
          "iopub.execute_input": "2025-06-25T13:07:17.705803Z",
          "iopub.status.busy": "2025-06-25T13:07:17.705344Z",
          "iopub.status.idle": "2025-06-25T13:07:19.914532Z",
          "shell.execute_reply": "2025-06-25T13:07:19.913412Z"
        },
        "papermill": {
          "duration": 2.216667,
          "end_time": "2025-06-25T13:07:19.916467",
          "exception": false,
          "start_time": "2025-06-25T13:07:17.699800",
          "status": "completed"
        },
        "tags": [],
        "id": "55720a89",
        "outputId": "66ed3563-e62b-4c0b-e9fe-5f7d66d57fe0"
      },
      "outputs": [
        {
          "name": "stdout",
          "output_type": "stream",
          "text": [
            "/kaggle/input/mlp-term-2-2025-kaggle-assignment-1/sample_submission.csv\n",
            "/kaggle/input/mlp-term-2-2025-kaggle-assignment-1/train.csv\n",
            "/kaggle/input/mlp-term-2-2025-kaggle-assignment-1/test.csv\n"
          ]
        }
      ],
      "source": [
        "import numpy as np\n",
        "import pandas as pd"
      ]
    },
    {
      "cell_type": "code",
      "execution_count": null,
      "id": "2fe84c3a",
      "metadata": {
        "execution": {
          "iopub.execute_input": "2025-06-25T13:07:19.925668Z",
          "iopub.status.busy": "2025-06-25T13:07:19.925031Z",
          "iopub.status.idle": "2025-06-25T13:07:20.109819Z",
          "shell.execute_reply": "2025-06-25T13:07:20.108768Z"
        },
        "papermill": {
          "duration": 0.190893,
          "end_time": "2025-06-25T13:07:20.111484",
          "exception": false,
          "start_time": "2025-06-25T13:07:19.920591",
          "status": "completed"
        },
        "tags": [],
        "id": "2fe84c3a",
        "outputId": "8d06c748-39d6-483b-a246-4e1286fd0cee"
      },
      "outputs": [
        {
          "name": "stdout",
          "output_type": "stream",
          "text": [
            "Train shape: (40000, 12)\n",
            "Test shape: (10000, 11)\n"
          ]
        },
        {
          "name": "stderr",
          "output_type": "stream",
          "text": [
            "/usr/local/lib/python3.11/dist-packages/pandas/io/formats/format.py:1458: RuntimeWarning: invalid value encountered in greater\n",
            "  has_large_values = (abs_vals > 1e6).any()\n",
            "/usr/local/lib/python3.11/dist-packages/pandas/io/formats/format.py:1459: RuntimeWarning: invalid value encountered in less\n",
            "  has_small_values = ((abs_vals < 10 ** (-self.digits)) & (abs_vals > 0)).any()\n",
            "/usr/local/lib/python3.11/dist-packages/pandas/io/formats/format.py:1459: RuntimeWarning: invalid value encountered in greater\n",
            "  has_small_values = ((abs_vals < 10 ** (-self.digits)) & (abs_vals > 0)).any()\n"
          ]
        },
        {
          "data": {
            "text/html": [
              "<div>\n",
              "<style scoped>\n",
              "    .dataframe tbody tr th:only-of-type {\n",
              "        vertical-align: middle;\n",
              "    }\n",
              "\n",
              "    .dataframe tbody tr th {\n",
              "        vertical-align: top;\n",
              "    }\n",
              "\n",
              "    .dataframe thead th {\n",
              "        text-align: right;\n",
              "    }\n",
              "</style>\n",
              "<table border=\"1\" class=\"dataframe\">\n",
              "  <thead>\n",
              "    <tr style=\"text-align: right;\">\n",
              "      <th></th>\n",
              "      <th>id</th>\n",
              "      <th>airline</th>\n",
              "      <th>flight</th>\n",
              "      <th>source</th>\n",
              "      <th>departure</th>\n",
              "      <th>stops</th>\n",
              "      <th>arrival</th>\n",
              "      <th>destination</th>\n",
              "      <th>class</th>\n",
              "      <th>duration</th>\n",
              "      <th>days_left</th>\n",
              "      <th>price</th>\n",
              "    </tr>\n",
              "  </thead>\n",
              "  <tbody>\n",
              "    <tr>\n",
              "      <th>0</th>\n",
              "      <td>0</td>\n",
              "      <td>Vistara</td>\n",
              "      <td>UK-930</td>\n",
              "      <td>Mumbai</td>\n",
              "      <td>Early_Morning</td>\n",
              "      <td>one</td>\n",
              "      <td>Night</td>\n",
              "      <td>Chennai</td>\n",
              "      <td>Business</td>\n",
              "      <td>NaN</td>\n",
              "      <td>40.0</td>\n",
              "      <td>64173</td>\n",
              "    </tr>\n",
              "    <tr>\n",
              "      <th>1</th>\n",
              "      <td>1</td>\n",
              "      <td>Air_India</td>\n",
              "      <td>AI-539</td>\n",
              "      <td>Chennai</td>\n",
              "      <td>Evening</td>\n",
              "      <td>one</td>\n",
              "      <td>Morning</td>\n",
              "      <td>Mumbai</td>\n",
              "      <td>Economy</td>\n",
              "      <td>16.08</td>\n",
              "      <td>26.0</td>\n",
              "      <td>4357</td>\n",
              "    </tr>\n",
              "    <tr>\n",
              "      <th>2</th>\n",
              "      <td>2</td>\n",
              "      <td>SpiceJet</td>\n",
              "      <td>SG-8107</td>\n",
              "      <td>Delhi</td>\n",
              "      <td>Early_Morning</td>\n",
              "      <td>zero</td>\n",
              "      <td>Morning</td>\n",
              "      <td>Chennai</td>\n",
              "      <td>Economy</td>\n",
              "      <td>2.92</td>\n",
              "      <td>25.0</td>\n",
              "      <td>3251</td>\n",
              "    </tr>\n",
              "    <tr>\n",
              "      <th>3</th>\n",
              "      <td>3</td>\n",
              "      <td>NaN</td>\n",
              "      <td>0.00E+00</td>\n",
              "      <td>Hyderabad</td>\n",
              "      <td>Early_Morning</td>\n",
              "      <td>zero</td>\n",
              "      <td>Morning</td>\n",
              "      <td>Bangalore</td>\n",
              "      <td>Economy</td>\n",
              "      <td>1.50</td>\n",
              "      <td>22.0</td>\n",
              "      <td>1776</td>\n",
              "    </tr>\n",
              "    <tr>\n",
              "      <th>4</th>\n",
              "      <td>4</td>\n",
              "      <td>Air_India</td>\n",
              "      <td>AI-569</td>\n",
              "      <td>Chennai</td>\n",
              "      <td>Early_Morning</td>\n",
              "      <td>one</td>\n",
              "      <td>Morning</td>\n",
              "      <td>Bangalore</td>\n",
              "      <td>Economy</td>\n",
              "      <td>4.83</td>\n",
              "      <td>20.0</td>\n",
              "      <td>3584</td>\n",
              "    </tr>\n",
              "  </tbody>\n",
              "</table>\n",
              "</div>"
            ],
            "text/plain": [
              "   id    airline    flight     source      departure stops  arrival  \\\n",
              "0   0    Vistara    UK-930     Mumbai  Early_Morning   one    Night   \n",
              "1   1  Air_India    AI-539    Chennai        Evening   one  Morning   \n",
              "2   2   SpiceJet   SG-8107      Delhi  Early_Morning  zero  Morning   \n",
              "3   3        NaN  0.00E+00  Hyderabad  Early_Morning  zero  Morning   \n",
              "4   4  Air_India    AI-569    Chennai  Early_Morning   one  Morning   \n",
              "\n",
              "  destination     class  duration  days_left  price  \n",
              "0     Chennai  Business       NaN       40.0  64173  \n",
              "1      Mumbai   Economy     16.08       26.0   4357  \n",
              "2     Chennai   Economy      2.92       25.0   3251  \n",
              "3   Bangalore   Economy      1.50       22.0   1776  \n",
              "4   Bangalore   Economy      4.83       20.0   3584  "
            ]
          },
          "execution_count": 2,
          "metadata": {},
          "output_type": "execute_result"
        }
      ],
      "source": [
        "# Load the data\n",
        "train = pd.read_csv('/kaggle/input/mlp-term-2-2025-kaggle-assignment-1/train.csv')\n",
        "test = pd.read_csv('/kaggle/input/mlp-term-2-2025-kaggle-assignment-1/test.csv')\n",
        "# Show basic info\n",
        "print(\"Train shape:\", train.shape)\n",
        "print(\"Test shape:\", test.shape)\n",
        "train.head()"
      ]
    },
    {
      "cell_type": "code",
      "execution_count": null,
      "id": "0fc6c84d",
      "metadata": {
        "execution": {
          "iopub.execute_input": "2025-06-25T13:07:20.120609Z",
          "iopub.status.busy": "2025-06-25T13:07:20.120246Z",
          "iopub.status.idle": "2025-06-25T13:07:20.156152Z",
          "shell.execute_reply": "2025-06-25T13:07:20.154300Z"
        },
        "papermill": {
          "duration": 0.043021,
          "end_time": "2025-06-25T13:07:20.158510",
          "exception": false,
          "start_time": "2025-06-25T13:07:20.115489",
          "status": "completed"
        },
        "tags": [],
        "id": "0fc6c84d",
        "outputId": "1cf125ef-5c78-46d0-e21e-4980e8a02f9c"
      },
      "outputs": [
        {
          "name": "stdout",
          "output_type": "stream",
          "text": [
            "train:\n",
            " id                0\n",
            "airline        4613\n",
            "flight            0\n",
            "source            0\n",
            "departure      4792\n",
            "stops          2319\n",
            "arrival           0\n",
            "destination       0\n",
            "class             0\n",
            "duration       3013\n",
            "days_left      4438\n",
            "price             0\n",
            "dtype: int64\n",
            "\n",
            "\n",
            "TesT:\n",
            " id               0\n",
            "airline        548\n",
            "flight           0\n",
            "source           0\n",
            "departure      920\n",
            "stops          651\n",
            "arrival          0\n",
            "destination      0\n",
            "class            0\n",
            "duration       582\n",
            "days_left      696\n",
            "dtype: int64\n"
          ]
        }
      ],
      "source": [
        "#MISSING VALUES\n",
        "print(\"train:\\n\",train.isnull().sum())\n",
        "print(\"\\n\")\n",
        "print(\"TesT:\\n\",test.isnull().sum())"
      ]
    },
    {
      "cell_type": "code",
      "execution_count": null,
      "id": "b31ec8b4",
      "metadata": {
        "execution": {
          "iopub.execute_input": "2025-06-25T13:07:20.168289Z",
          "iopub.status.busy": "2025-06-25T13:07:20.167880Z",
          "iopub.status.idle": "2025-06-25T13:07:20.257529Z",
          "shell.execute_reply": "2025-06-25T13:07:20.256273Z"
        },
        "papermill": {
          "duration": 0.096567,
          "end_time": "2025-06-25T13:07:20.259354",
          "exception": false,
          "start_time": "2025-06-25T13:07:20.162787",
          "status": "completed"
        },
        "tags": [],
        "id": "b31ec8b4",
        "outputId": "abf0e081-93da-46ad-c13c-2a62ea2c6525"
      },
      "outputs": [
        {
          "name": "stdout",
          "output_type": "stream",
          "text": [
            "Train Duplicates: 0\n",
            "Test Duplicates: 0\n"
          ]
        }
      ],
      "source": [
        "#DUPLICATES\n",
        "print(\"Train Duplicates:\", train.duplicated().sum())\n",
        "train = train.drop_duplicates()\n",
        "print(\"Test Duplicates:\", test.duplicated().sum())\n",
        "test = test.drop_duplicates()"
      ]
    },
    {
      "cell_type": "code",
      "execution_count": null,
      "id": "eb34507f",
      "metadata": {
        "execution": {
          "iopub.execute_input": "2025-06-25T13:07:20.269394Z",
          "iopub.status.busy": "2025-06-25T13:07:20.269045Z",
          "iopub.status.idle": "2025-06-25T13:07:20.282506Z",
          "shell.execute_reply": "2025-06-25T13:07:20.281401Z"
        },
        "papermill": {
          "duration": 0.020202,
          "end_time": "2025-06-25T13:07:20.284019",
          "exception": false,
          "start_time": "2025-06-25T13:07:20.263817",
          "status": "completed"
        },
        "tags": [],
        "id": "eb34507f",
        "outputId": "7c322c00-f135-4ff6-96a1-9d94aed5282f"
      },
      "outputs": [
        {
          "name": "stderr",
          "output_type": "stream",
          "text": [
            "/tmp/ipykernel_13/3553844085.py:6: FutureWarning: A value is trying to be set on a copy of a DataFrame or Series through chained assignment using an inplace method.\n",
            "The behavior will change in pandas 3.0. This inplace method will never work because the intermediate object on which we are setting values always behaves as a copy.\n",
            "\n",
            "For example, when doing 'df[col].method(value, inplace=True)', try using 'df.method({col: value}, inplace=True)' or df[col] = df[col].method(value) instead, to perform the operation inplace on the original object.\n",
            "\n",
            "\n",
            "  train[col].fillna(train[col].mean(), inplace=True)\n",
            "/tmp/ipykernel_13/3553844085.py:9: FutureWarning: A value is trying to be set on a copy of a DataFrame or Series through chained assignment using an inplace method.\n",
            "The behavior will change in pandas 3.0. This inplace method will never work because the intermediate object on which we are setting values always behaves as a copy.\n",
            "\n",
            "For example, when doing 'df[col].method(value, inplace=True)', try using 'df.method({col: value}, inplace=True)' or df[col] = df[col].method(value) instead, to perform the operation inplace on the original object.\n",
            "\n",
            "\n",
            "  test[col].fillna(test[col].mean(), inplace=True)\n"
          ]
        }
      ],
      "source": [
        "# Separate numeric columns without 'price' for test set\n",
        "num_cols = train.select_dtypes(include=['int64', 'float64']).columns.tolist()\n",
        "test_num_cols = [col for col in num_cols if col != 'price']\n",
        "# Impute train\n",
        "for col in num_cols:\n",
        "    train[col].fillna(train[col].mean(), inplace=True)\n",
        "# Impute test\n",
        "for col in test_num_cols:\n",
        "    test[col].fillna(test[col].mean(), inplace=True)"
      ]
    },
    {
      "cell_type": "code",
      "execution_count": null,
      "id": "59e0df19",
      "metadata": {
        "execution": {
          "iopub.execute_input": "2025-06-25T13:07:20.293730Z",
          "iopub.status.busy": "2025-06-25T13:07:20.293366Z",
          "iopub.status.idle": "2025-06-25T13:07:20.324619Z",
          "shell.execute_reply": "2025-06-25T13:07:20.323712Z"
        },
        "papermill": {
          "duration": 0.038242,
          "end_time": "2025-06-25T13:07:20.326340",
          "exception": false,
          "start_time": "2025-06-25T13:07:20.288098",
          "status": "completed"
        },
        "tags": [],
        "id": "59e0df19"
      },
      "outputs": [],
      "source": [
        "def remove_outliers_iqr(df, col):\n",
        "    Q1 = df[col].quantile(0.25)\n",
        "    Q3 = df[col].quantile(0.75)\n",
        "    IQR = Q3 - Q1\n",
        "    lower = Q1 - 1.5 * IQR\n",
        "    upper = Q3 + 1.5 * IQR\n",
        "    return df[(df[col] >= lower) & (df[col] <= upper)]\n",
        "# Apply on price and duration\n",
        "train = remove_outliers_iqr(train, 'price')\n",
        "train = remove_outliers_iqr(train, 'duration')"
      ]
    },
    {
      "cell_type": "code",
      "execution_count": null,
      "id": "0c95b57b",
      "metadata": {
        "execution": {
          "iopub.execute_input": "2025-06-25T13:07:20.335927Z",
          "iopub.status.busy": "2025-06-25T13:07:20.335584Z",
          "iopub.status.idle": "2025-06-25T13:07:23.154851Z",
          "shell.execute_reply": "2025-06-25T13:07:23.153883Z"
        },
        "papermill": {
          "duration": 2.826284,
          "end_time": "2025-06-25T13:07:23.156878",
          "exception": false,
          "start_time": "2025-06-25T13:07:20.330594",
          "status": "completed"
        },
        "tags": [],
        "id": "0c95b57b",
        "outputId": "b371fa84-28b0-410f-ef6f-c23b83cf3a17"
      },
      "outputs": [
        {
          "name": "stderr",
          "output_type": "stream",
          "text": [
            "/usr/local/lib/python3.11/dist-packages/seaborn/_oldcore.py:1119: FutureWarning: use_inf_as_na option is deprecated and will be removed in a future version. Convert inf values to NaN before operating instead.\n",
            "  with pd.option_context('mode.use_inf_as_na', True):\n"
          ]
        },
        {
          "data": {
            "image/png": "[encoded data removed]",
            "text/plain": [
              "<Figure size 1000x600 with 1 Axes>"
            ]
          },
          "metadata": {},
          "output_type": "display_data"
        }
      ],
      "source": [
        "import matplotlib.pyplot as plt\n",
        "import seaborn as sns\n",
        "sns.set(style=\"whitegrid\")\n",
        "plt.figure(figsize=(10, 6))\n",
        "sns.histplot(train['price'], bins=50, kde=True, color='skyblue')\n",
        "plt.title('Distribution of Ticket Prices')\n",
        "plt.xlabel('Price')\n",
        "plt.ylabel('Frequency')\n",
        "plt.show()"
      ]
    },
    {
      "cell_type": "code",
      "execution_count": null,
      "id": "392dff58",
      "metadata": {
        "execution": {
          "iopub.execute_input": "2025-06-25T13:07:23.169728Z",
          "iopub.status.busy": "2025-06-25T13:07:23.169124Z",
          "iopub.status.idle": "2025-06-25T13:07:23.455582Z",
          "shell.execute_reply": "2025-06-25T13:07:23.454571Z"
        },
        "papermill": {
          "duration": 0.295584,
          "end_time": "2025-06-25T13:07:23.457489",
          "exception": false,
          "start_time": "2025-06-25T13:07:23.161905",
          "status": "completed"
        },
        "tags": [],
        "id": "392dff58",
        "outputId": "f7e8084e-3d3f-4e22-a186-bf852a41b7c2"
      },
      "outputs": [
        {
          "data": {
            "image/png": "[encoded data removed]",
            "text/plain": [
              "<Figure size 1200x600 with 1 Axes>"
            ]
          },
          "metadata": {},
          "output_type": "display_data"
        }
      ],
      "source": [
        "plt.figure(figsize=(12, 6))\n",
        "sns.boxplot(x='airline', y='price', data=train)\n",
        "plt.xticks(rotation=45)\n",
        "plt.title('Ticket Prices by Airline')\n",
        "plt.ylabel('Price')\n",
        "plt.show()"
      ]
    },
    {
      "cell_type": "code",
      "execution_count": null,
      "id": "f437198c",
      "metadata": {
        "execution": {
          "iopub.execute_input": "2025-06-25T13:07:23.470694Z",
          "iopub.status.busy": "2025-06-25T13:07:23.470357Z",
          "iopub.status.idle": "2025-06-25T13:07:24.050839Z",
          "shell.execute_reply": "2025-06-25T13:07:24.049782Z"
        },
        "papermill": {
          "duration": 0.589336,
          "end_time": "2025-06-25T13:07:24.052666",
          "exception": false,
          "start_time": "2025-06-25T13:07:23.463330",
          "status": "completed"
        },
        "tags": [],
        "id": "f437198c",
        "outputId": "b77c02e9-e64c-4cee-d000-7cc0b48fbbc7"
      },
      "outputs": [
        {
          "data": {
            "image/png": "[encoded data removed]",
            "text/plain": [
              "<Figure size 800x600 with 1 Axes>"
            ]
          },
          "metadata": {},
          "output_type": "display_data"
        }
      ],
      "source": [
        "plt.figure(figsize=(8, 6))\n",
        "sns.barplot(x='stops', y='price', data=train, estimator='mean')\n",
        "plt.title('Average Ticket Price by Stops')\n",
        "plt.ylabel('Average Price')\n",
        "plt.show()"
      ]
    },
    {
      "cell_type": "code",
      "execution_count": null,
      "id": "739e3535",
      "metadata": {
        "execution": {
          "iopub.execute_input": "2025-06-25T13:07:24.069057Z",
          "iopub.status.busy": "2025-06-25T13:07:24.068759Z",
          "iopub.status.idle": "2025-06-25T13:07:24.083708Z",
          "shell.execute_reply": "2025-06-25T13:07:24.082629Z"
        },
        "papermill": {
          "duration": 0.024122,
          "end_time": "2025-06-25T13:07:24.085477",
          "exception": false,
          "start_time": "2025-06-25T13:07:24.061355",
          "status": "completed"
        },
        "tags": [],
        "id": "739e3535"
      },
      "outputs": [],
      "source": [
        "#Split Features and Target\n",
        "X = train.drop(columns=['price'])  # features\n",
        "y = train['price']                # target\n",
        "# Identify Columns to Transform\n",
        "categorical_cols = X.select_dtypes(include='object').columns.tolist()\n",
        "numerical_cols = X.select_dtypes(include=['int64', 'float64']).columns.tolist()"
      ]
    },
    {
      "cell_type": "code",
      "execution_count": null,
      "id": "5f8fc0c4",
      "metadata": {
        "execution": {
          "iopub.execute_input": "2025-06-25T13:07:24.100163Z",
          "iopub.status.busy": "2025-06-25T13:07:24.099182Z",
          "iopub.status.idle": "2025-06-25T13:07:24.746790Z",
          "shell.execute_reply": "2025-06-25T13:07:24.745427Z"
        },
        "papermill": {
          "duration": 0.657024,
          "end_time": "2025-06-25T13:07:24.748844",
          "exception": false,
          "start_time": "2025-06-25T13:07:24.091820",
          "status": "completed"
        },
        "tags": [],
        "id": "5f8fc0c4"
      },
      "outputs": [],
      "source": [
        "#Define Preprocessing Pipeline\n",
        "from sklearn.compose import ColumnTransformer\n",
        "from sklearn.preprocessing import OneHotEncoder, StandardScaler\n",
        "from sklearn.pipeline import Pipeline\n",
        "from sklearn.impute import SimpleImputer\n",
        "# Numerical pipeline\n",
        "numeric_transformer = Pipeline(steps=[\n",
        "    ('imputer', SimpleImputer(strategy='mean')),\n",
        "    ('scaler', StandardScaler())])\n",
        "# Categorical pipeline\n",
        "categorical_transformer = Pipeline(steps=[\n",
        "    ('imputer', SimpleImputer(strategy='most_frequent')),\n",
        "    ('onehot', OneHotEncoder(handle_unknown='ignore'))])\n",
        "# Combine\n",
        "preprocessor = ColumnTransformer(transformers=[\n",
        "    ('num', numeric_transformer, numerical_cols),\n",
        "    ('cat', categorical_transformer, categorical_cols)])"
      ]
    },
    {
      "cell_type": "code",
      "execution_count": null,
      "id": "daa35f0e",
      "metadata": {
        "execution": {
          "iopub.execute_input": "2025-06-25T13:07:24.762348Z",
          "iopub.status.busy": "2025-06-25T13:07:24.761984Z",
          "iopub.status.idle": "2025-06-25T13:07:24.781660Z",
          "shell.execute_reply": "2025-06-25T13:07:24.780471Z"
        },
        "papermill": {
          "duration": 0.028412,
          "end_time": "2025-06-25T13:07:24.783444",
          "exception": false,
          "start_time": "2025-06-25T13:07:24.755032",
          "status": "completed"
        },
        "tags": [],
        "id": "daa35f0e"
      },
      "outputs": [],
      "source": [
        "#Train/Test Split\n",
        "from sklearn.model_selection import train_test_split\n",
        "X_train, X_val, y_train, y_val = train_test_split(X, y, test_size=0.2, random_state=42)"
      ]
    },
    {
      "cell_type": "code",
      "execution_count": null,
      "id": "fb1e616b",
      "metadata": {
        "execution": {
          "iopub.execute_input": "2025-06-25T13:07:24.797755Z",
          "iopub.status.busy": "2025-06-25T13:07:24.797411Z",
          "iopub.status.idle": "2025-06-25T13:14:22.186285Z",
          "shell.execute_reply": "2025-06-25T13:14:22.184858Z"
        },
        "papermill": {
          "duration": 417.404656,
          "end_time": "2025-06-25T13:14:22.194376",
          "exception": false,
          "start_time": "2025-06-25T13:07:24.789720",
          "status": "completed"
        },
        "tags": [],
        "id": "fb1e616b",
        "outputId": "04763605-b60e-40ce-b562-b99856b93056"
      },
      "outputs": [
        {
          "name": "stdout",
          "output_type": "stream",
          "text": [
            "LinearRegression: R2 Score = 0.92\n",
            "KNN: R2 Score = 0.89\n",
            "DecisionTree: R2 Score = 0.96\n",
            "RandomForest: R2 Score = 0.98\n",
            "GradientBoosting: R2 Score = 0.95\n",
            "AdaBoost: R2 Score = 0.93\n",
            "SVR: R2 Score = -0.30\n"
          ]
        }
      ],
      "source": [
        "from sklearn.linear_model import LinearRegression\n",
        "from sklearn.ensemble import RandomForestRegressor, GradientBoostingRegressor, AdaBoostRegressor\n",
        "from sklearn.tree import DecisionTreeRegressor\n",
        "from sklearn.svm import SVR\n",
        "from sklearn.pipeline import make_pipeline\n",
        "from sklearn.metrics import r2_score\n",
        "from sklearn.neighbors import KNeighborsRegressor\n",
        "models = {\n",
        "    \"LinearRegression\": LinearRegression(),\n",
        "    \"KNN\": KNeighborsRegressor(),\n",
        "    \"DecisionTree\": DecisionTreeRegressor(random_state=42),\n",
        "    \"RandomForest\": RandomForestRegressor(random_state=42),\n",
        "    }\n",
        "results = {}\n",
        "for name, model in models.items():\n",
        "    pipe = make_pipeline(preprocessor, model)\n",
        "    pipe.fit(X_train, y_train)\n",
        "    y_pred = pipe.predict(X_val)\n",
        "    r2 = r2_score(y_val, y_pred)\n",
        "    results[name] = r2\n",
        "    print(f\"{name}: R2 Score = {r2:.2f}\")"
      ]
    },
    {
      "cell_type": "code",
      "execution_count": null,
      "id": "5ac6628c",
      "metadata": {
        "execution": {
          "iopub.execute_input": "2025-06-25T13:14:22.209381Z",
          "iopub.status.busy": "2025-06-25T13:14:22.209032Z",
          "iopub.status.idle": "2025-06-25T13:20:17.609010Z",
          "shell.execute_reply": "2025-06-25T13:20:17.607989Z"
        },
        "papermill": {
          "duration": 355.415783,
          "end_time": "2025-06-25T13:20:17.616934",
          "exception": false,
          "start_time": "2025-06-25T13:14:22.201151",
          "status": "completed"
        },
        "tags": [],
        "id": "5ac6628c",
        "outputId": "437eda90-d314-4087-aeef-920f51813b17"
      },
      "outputs": [
        {
          "name": "stdout",
          "output_type": "stream",
          "text": [
            "Best RF Params: {'model__max_depth': 20, 'model__n_estimators': 100}\n",
            "RF R²: 0.98\n",
            "Best Decision Tree Params: {'model__max_depth': 30, 'model__min_samples_split': 10}\n",
            "Decision Tree R²: 0.97\n",
            "Best GB Params: {'model__learning_rate': 0.1, 'model__n_estimators': 100}\n",
            "GB R²: 0.95\n"
          ]
        }
      ],
      "source": [
        "from sklearn.model_selection import GridSearchCV\n",
        "# Reuse this pipeline structure\n",
        "from sklearn.pipeline import Pipeline\n",
        "\n",
        "#Random Forest Regressor\n",
        "\n",
        "from sklearn.ensemble import RandomForestRegressor\n",
        "rf_pipeline = Pipeline([\n",
        "    ('preprocessor', preprocessor),\n",
        "    ('model', RandomForestRegressor(random_state=42))])\n",
        "rf_params = {\n",
        "    'model__n_estimators': [50, 100],\n",
        "    'model__max_depth': [10, 20]}\n",
        "rf_grid = GridSearchCV(rf_pipeline, rf_params, cv=3, scoring='r2', n_jobs=-1)\n",
        "rf_grid.fit(X_train, y_train)\n",
        "print(\"Best RF Params:\", rf_grid.best_params_)\n",
        "print(\"RF R²:\", round(rf_grid.score(X_val, y_val), 2))"
      ]
    },
    {
      "cell_type": "code",
      "execution_count": null,
      "id": "4e81131a",
      "metadata": {
        "execution": {
          "iopub.execute_input": "2025-06-25T13:20:17.632210Z",
          "iopub.status.busy": "2025-06-25T13:20:17.631913Z",
          "iopub.status.idle": "2025-06-25T13:20:17.903558Z",
          "shell.execute_reply": "2025-06-25T13:20:17.902310Z"
        },
        "papermill": {
          "duration": 0.282176,
          "end_time": "2025-06-25T13:20:17.905731",
          "exception": false,
          "start_time": "2025-06-25T13:20:17.623555",
          "status": "completed"
        },
        "tags": [],
        "id": "4e81131a",
        "outputId": "da880fd1-dff1-431a-cf27-708258a3eac7"
      },
      "outputs": [
        {
          "name": "stdout",
          "output_type": "stream",
          "text": [
            "Submission file 'submission.csv' saved successfully!\n"
          ]
        }
      ],
      "source": [
        "# Use best tuned Random Forest model\n",
        "best_rf_model = rf_grid.best_estimator_\n",
        "# Predict on test set\n",
        "test_predictions = best_rf_model.predict(test)\n",
        "# Load sample submission\n",
        "sample_submission = pd.read_csv('/kaggle/input/mlp-term-2-2025-kaggle-assignment-1/sample_submission.csv')\n",
        "# Create submission file\n",
        "submission = pd.DataFrame({\n",
        "    'id': sample_submission['id'],\n",
        "    'price': test_predictions})\n",
        "# Save to CSV\n",
        "submission.to_csv('submission.csv', index=False)\n",
        "print(\"Submission file 'submission.csv' saved successfully!\")"
      ]
    }
  ],
  "metadata": {
    "kaggle": {
      "accelerator": "none",
      "dataSources": [
        {
          "databundleVersionId": 12770423,
          "sourceId": 105665,
          "sourceType": "competition"
        }
      ],
      "dockerImageVersionId": 31040,
      "isGpuEnabled": false,
      "isInternetEnabled": false,
      "language": "python",
      "sourceType": "notebook"
    },
    "kernelspec": {
      "display_name": "Python 3",
      "language": "python",
      "name": "python3"
    },
    "language_info": {
      "codemirror_mode": {
        "name": "ipython",
        "version": 3
      },
      "file_extension": ".py",
      "mimetype": "text/x-python",
      "name": "python",
      "nbconvert_exporter": "python",
      "pygments_lexer": "ipython3",
      "version": "3.11.11"
    },
    "papermill": {
      "default_parameters": {},
      "duration": 788.158729,
      "end_time": "2025-06-25T13:20:20.535687",
      "environment_variables": {},
      "exception": null,
      "input_path": "__notebook__.ipynb",
      "output_path": "__notebook__.ipynb",
      "parameters": {},
      "start_time": "2025-06-25T13:07:12.376958",
      "version": "2.6.0"
    },
    "colab": {
      "provenance": []
    }
  },
  "nbformat": 4,
  "nbformat_minor": 5
}